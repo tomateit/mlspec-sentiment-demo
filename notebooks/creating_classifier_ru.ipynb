{
 "cells": [
  {
   "cell_type": "markdown",
   "metadata": {},
   "source": [
    "# 1. Загрузка и подготовка данных"
   ]
  },
  {
   "cell_type": "markdown",
   "metadata": {},
   "source": [
    "Отзывы для обучения уже загружены скриптом в SQLite3 бд."
   ]
  },
  {
   "cell_type": "code",
   "execution_count": 11,
   "metadata": {},
   "outputs": [],
   "source": [
    "import pandas as pd\n",
    "import numpy as np\n",
    "import sqlite3\n",
    "import html\n",
    "%matplotlib inline"
   ]
  },
  {
   "cell_type": "code",
   "execution_count": 3,
   "metadata": {},
   "outputs": [],
   "source": [
    "conn = sqlite3.connect('reviews_395.db')\n",
    "c = conn.cursor()"
   ]
  },
  {
   "cell_type": "code",
   "execution_count": 4,
   "metadata": {},
   "outputs": [],
   "source": [
    "train_data = list(c.execute(\"SELECT * FROM reviews;\"))\n",
    "conn.close()"
   ]
  },
  {
   "cell_type": "code",
   "execution_count": 12,
   "metadata": {},
   "outputs": [],
   "source": [
    "data_raw = pd.read_csv(\"./train_data.csv\")"
   ]
  },
  {
   "cell_type": "code",
   "execution_count": 17,
   "metadata": {},
   "outputs": [],
   "source": [
    "data_asessed_1 = pd.read_csv(\"./train_data_results_1.csv\", header=None).drop(columns=[0]).rename(columns={1:\"text\", 2: \"label\"})\n",
    "data_asessed_2 = pd.read_csv(\"./train_data_results_2.csv\", header=None).drop(columns=[0]).rename(columns={1:\"text\", 2: \"label\"})"
   ]
  },
  {
   "cell_type": "code",
   "execution_count": 14,
   "metadata": {},
   "outputs": [],
   "source": [
    "data_assessed = data_asessed_1.append(data_asessed_2)"
   ]
  },
  {
   "cell_type": "code",
   "execution_count": 19,
   "metadata": {},
   "outputs": [
    {
     "data": {
      "text/plain": [
       "True"
      ]
     },
     "execution_count": 19,
     "metadata": {},
     "output_type": "execute_result"
    }
   ],
   "source": [
    "data_raw.text[1] in data_assessed[\"text\"].unique()"
   ]
  },
  {
   "cell_type": "code",
   "execution_count": 27,
   "metadata": {},
   "outputs": [
    {
     "data": {
      "text/plain": [
       "1591"
      ]
     },
     "execution_count": 27,
     "metadata": {},
     "output_type": "execute_result"
    }
   ],
   "source": [
    "len(data_assessed)"
   ]
  },
  {
   "cell_type": "code",
   "execution_count": 24,
   "metadata": {},
   "outputs": [],
   "source": [
    "uqs = data_assessed.text.unique()\n",
    "data_raw[\"duplicate\"] = data_raw[\"text\"].apply(lambda x: x in uqs)"
   ]
  },
  {
   "cell_type": "code",
   "execution_count": 31,
   "metadata": {},
   "outputs": [
    {
     "data": {
      "text/plain": [
       "Index(['text', 'label'], dtype='object')"
      ]
     },
     "execution_count": 31,
     "metadata": {},
     "output_type": "execute_result"
    }
   ],
   "source": [
    "data_assessed.columns"
   ]
  },
  {
   "cell_type": "code",
   "execution_count": 33,
   "metadata": {},
   "outputs": [],
   "source": [
    "data.drop(columns=[\"Unnamed: 0\",\"duplicate\"], inplace=True)"
   ]
  },
  {
   "cell_type": "code",
   "execution_count": 32,
   "metadata": {},
   "outputs": [],
   "source": [
    "data = data_assessed.append(data_raw[data_raw.duplicate == False])"
   ]
  },
  {
   "cell_type": "markdown",
   "metadata": {},
   "source": [
    "## 1.1 Очистка."
   ]
  },
  {
   "cell_type": "markdown",
   "metadata": {},
   "source": [
    "В данные попало много лишних тегов и прочего мусора. Для начала я уберу его, а также нормализую пунктуацию."
   ]
  },
  {
   "cell_type": "code",
   "execution_count": 35,
   "metadata": {},
   "outputs": [],
   "source": [
    "import re"
   ]
  },
  {
   "cell_type": "code",
   "execution_count": 45,
   "metadata": {},
   "outputs": [
    {
     "data": {
      "text/plain": [
       "'... 123 не - akjsdj '"
      ]
     },
     "execution_count": 45,
     "metadata": {},
     "output_type": "execute_result"
    }
   ],
   "source": [
    "re.sub(r\"[\\s.,-]\",\" \", \"...   123 не - akjsdj \\n\")\n",
    "re.sub(r\"\\s+\",\" \", \"...   123 не - akjsdj \\n\")"
   ]
  },
  {
   "cell_type": "code",
   "execution_count": 47,
   "metadata": {},
   "outputs": [],
   "source": [
    "def normalize_text(text):\n",
    "    _t = html.unescape(text)\n",
    "    _t = _t.replace(\"<p>\",\" \")\n",
    "    _t = _t.replace(\"</p>\", \" \")\n",
    "    _t = _t.replace(\"\\n\", \" \")\n",
    "    _t = _t.replace(\"\\r\", \" \")\n",
    "    _t = _t.replace(\"\\t\", \" \")\n",
    "    _t = _t.replace('\"', \" \")\n",
    "    return _t.strip()"
   ]
  },
  {
   "cell_type": "code",
   "execution_count": 46,
   "metadata": {},
   "outputs": [],
   "source": [
    "def normalize_text_re(text):\n",
    "    _t = text\n",
    "    _t = re.sub(r\"[\\s.,-><;:!?()]\", \" \", _t)\n",
    "    _t = re.sub(r\"\\s+\", \" \", _t)\n",
    "    return _t"
   ]
  },
  {
   "cell_type": "code",
   "execution_count": 48,
   "metadata": {},
   "outputs": [],
   "source": [
    "data[\"text\"] = data[\"text\"].apply(lambda x: normalize_text(x))\n",
    "data[\"text\"] = data[\"text\"].apply(lambda x: normalize_text_re(x))"
   ]
  },
  {
   "cell_type": "code",
   "execution_count": 49,
   "metadata": {},
   "outputs": [
    {
     "data": {
      "text/plain": [
       "10098"
      ]
     },
     "execution_count": 49,
     "metadata": {},
     "output_type": "execute_result"
    }
   ],
   "source": [
    "len(data[\"text\"].unique())"
   ]
  },
  {
   "cell_type": "code",
   "execution_count": 50,
   "metadata": {},
   "outputs": [
    {
     "data": {
      "text/plain": [
       "10122    Плюсы достоинство что это айфон уже Минусы зар...\n",
       "10123    Плюсы Удобство качество агрегата простота в ис...\n",
       "10124    Плюсы экран скорость работы внешний вид размер...\n",
       "10125    Плюсы Аппарат показал себя на лучшем уровне У ...\n",
       "10126    Плюсы Простота и удобство и даже тунец работае...\n",
       "10127    Плюсы У меня было blackberry Все были на BB OS...\n",
       "10128    Плюсы качественная сборка качественное ПО Мину...\n",
       "10129    Плюсы лет а он все также работает Минусы нет В...\n",
       "10130    Плюсы флеш карту принимает удобный лёгкий инте...\n",
       "10131    Плюсы Качество связи Динамик и разговорный и в...\n",
       "10132    Плюсы маленькии уже есть опера это хорошо аськ...\n",
       "10133    Плюсы мощный приём передача практически всё ес...\n",
       "10134    Плюсы большие кнопки громкий звук фонарик длит...\n",
       "10135    Плюсы Удобный приятный лёгкий Большие клавиши ...\n",
       "10136    Плюсы сим карты крупные цифры голосовой набор ...\n",
       "10137    Плюсы большой экран цена гнезда для наушников ...\n",
       "10138    Плюсы Нет люфта клавиши нажимаются плавно Мину...\n",
       "10139    Плюсы полный набор необходимых фукций отличное...\n",
       "10140    Плюсы хорош для тех у кого проблемы со зрением...\n",
       "10141    Плюсы соответсвие цена качество Лучшее Минусы ...\n",
       "10142    Плюсы В своей цене телефон качественный Минусы...\n",
       "10143    Плюсы Красивый внешний вид оригинальный дизайн...\n",
       "10144    Плюсы цена качество алюминиевый корпус камера ...\n",
       "10145    Плюсы Эргономичный шустрый телефон Хорошая кам...\n",
       "10146    Плюсы Редкая модель Минусы Полное отсутствие п...\n",
       "10147    Плюсы это ежевика Минусы нету Впечатления Пред...\n",
       "10148    Плюсы Лучший телефон в своем классе по всем па...\n",
       "10149    Плюсы нет Минусы камера ботарейка плохой сенсо...\n",
       "10150    Плюсы лет телефону а батарея держит больше сов...\n",
       "10151    Плюсы размеры звук правда с дугими наушниками ...\n",
       "Name: text, dtype: object"
      ]
     },
     "execution_count": 50,
     "metadata": {},
     "output_type": "execute_result"
    }
   ],
   "source": [
    "data[\"text\"].tail(30)"
   ]
  },
  {
   "cell_type": "code",
   "execution_count": 51,
   "metadata": {},
   "outputs": [],
   "source": [
    "data.to_csv(\"./train_data_consolidated.csv\")"
   ]
  },
  {
   "cell_type": "markdown",
   "metadata": {},
   "source": [
    "## 2. Векторизация"
   ]
  },
  {
   "cell_type": "markdown",
   "metadata": {},
   "source": [
    "Я хочу воспользоваться библиотекой gensim, потому что я уже использовал их эмбеддинги, и они отлично показали себя в классификации, даже на плохо обработанном датасете.\n",
    "\n",
    "Чтобы потом удобно запаковать это в sklearn pipeline, я реализую свой класс по образу `TfIdfVectorizer` из `sklearn.feature_extraction`"
   ]
  },
  {
   "cell_type": "code",
   "execution_count": 52,
   "metadata": {},
   "outputs": [],
   "source": [
    "import gensim\n",
    "from gensim.utils import simple_preprocess\n",
    "from gensim.models import doc2vec\n",
    "from tqdm import tqdm\n",
    "from sklearn.base import TransformerMixin, BaseEstimator\n",
    "from sklearn.feature_extraction.text import _VectorizerMixin\n",
    "import numpy as np\n",
    "\n",
    "class VectorizerTransformer(_VectorizerMixin, BaseEstimator):\n",
    "    def __init__(self):\n",
    "        pass\n",
    "\n",
    "    def fit(self, raw_documents, y=None):\n",
    "        X = self.preprocess(raw_documents)\n",
    "        # print(\"Creating model...\")\n",
    "        model = gensim.models.doc2vec.Doc2Vec(\n",
    "            vector_size=60, \n",
    "            min_count=10,\n",
    "            epochs=40\n",
    "        )\n",
    "        # print(\"Building vocab...\")\n",
    "        model.build_vocab(X)\n",
    "        # print(\"Training doc2vec...\")\n",
    "        model.train(X, total_examples=model.corpus_count, epochs=model.epochs)\n",
    "        self.model = model\n",
    "        return self\n",
    "\n",
    "    def transform(self, raw_documents):\n",
    "        X = self.preprocess(raw_documents)\n",
    "        # print(\"Iinferring vectors...\")\n",
    "        vectorized_texts = []\n",
    "        for doc_id, _ in enumerate(tqdm(X, desc=\"Inferring vectors: \")):\n",
    "            inferred_vector = self.model.infer_vector(X[doc_id].words)\n",
    "            vectorized_texts.append(inferred_vector)\n",
    "\n",
    "        return vectorized_texts\n",
    "\n",
    "    def preprocess(self, raw_documents):\n",
    "        # print(\"Tokenization...\")\n",
    "        processed_texts = []\n",
    "        for idx, text in enumerate(tqdm(raw_documents, desc=\"Tokenization: \")):\n",
    "            text = normalize_text(text)\n",
    "            text = normalize_text_re(text)\n",
    "            processed_texts.append(doc2vec.TaggedDocument(simple_preprocess(text), [idx]))\n",
    "        return processed_texts\n",
    "\n",
    "\n",
    "    def fit_transform(self, texts, y=None) -> np.ndarray:\n",
    "        self.fit(texts)\n",
    "        X = self.transform(texts)\n",
    "        \n",
    "        return np.array(X)"
   ]
  },
  {
   "cell_type": "code",
   "execution_count": null,
   "metadata": {},
   "outputs": [],
   "source": []
  },
  {
   "cell_type": "markdown",
   "metadata": {},
   "source": [
    "## 3. Обучение модели "
   ]
  },
  {
   "cell_type": "markdown",
   "metadata": {},
   "source": []
  },
  {
   "cell_type": "code",
   "execution_count": 53,
   "metadata": {},
   "outputs": [],
   "source": [
    "X = data[\"text\"]\n",
    "# y = data.label.map({\"pos\": 1, \"neg\": 0})\n",
    "y = data.label"
   ]
  },
  {
   "cell_type": "code",
   "execution_count": 54,
   "metadata": {},
   "outputs": [],
   "source": [
    "from sklearn.pipeline import make_pipeline\n",
    "from sklearn.ensemble import GradientBoostingClassifier\n",
    "from sklearn.metrics import roc_auc_score, accuracy_score, make_scorer\n",
    "from sklearn.model_selection import cross_val_score, cross_validate\n",
    "\n",
    "_model = make_pipeline(VectorizerTransformer(), GradientBoostingClassifier())\n",
    "\n"
   ]
  },
  {
   "cell_type": "code",
   "execution_count": 55,
   "metadata": {},
   "outputs": [
    {
     "data": {
      "text/plain": [
       "array([0.92072871, 0.91674877, 0.92019704, 0.91724138, 0.91674877])"
      ]
     },
     "execution_count": 55,
     "metadata": {},
     "output_type": "execute_result"
    }
   ],
   "source": [
    "cross_val_score(_model, X, y, n_jobs=6)"
   ]
  },
  {
   "cell_type": "code",
   "execution_count": 76,
   "metadata": {},
   "outputs": [
    {
     "name": "stderr",
     "output_type": "stream",
     "text": [
      "Tokenization: 100%|██████████| 1591/1591 [00:00<00:00, 18641.09it/s]\n",
      "Tokenization: 100%|██████████| 1591/1591 [00:00<00:00, 19806.00it/s]\n",
      "Inferring vectors: 100%|██████████| 1591/1591 [00:02<00:00, 581.03it/s]\n"
     ]
    },
    {
     "data": {
      "text/plain": [
       "Pipeline(steps=[('vectorizertransformer', VectorizerTransformer()),\n",
       "                ('gradientboostingclassifier', GradientBoostingClassifier())])"
      ]
     },
     "execution_count": 76,
     "metadata": {},
     "output_type": "execute_result"
    }
   ],
   "source": [
    "_model.fit(X, y)"
   ]
  },
  {
   "cell_type": "markdown",
   "metadata": {},
   "source": [
    "В принципе, качество уже не такое гадкое, можно попробовать сделать сабмит."
   ]
  },
  {
   "cell_type": "code",
   "execution_count": null,
   "metadata": {},
   "outputs": [],
   "source": []
  },
  {
   "cell_type": "code",
   "execution_count": null,
   "metadata": {},
   "outputs": [],
   "source": []
  },
  {
   "cell_type": "code",
   "execution_count": null,
   "metadata": {},
   "outputs": [],
   "source": []
  },
  {
   "cell_type": "markdown",
   "metadata": {},
   "source": [
    "## 4. Улучшение модели"
   ]
  },
  {
   "cell_type": "markdown",
   "metadata": {},
   "source": [
    "Улучшить модель можно несколькими путями:\n",
    "+ 1. Улучшить препроцессинг текста\n",
    "+ 2. Подобрать параметры модели векторизации\n",
    "+ 3. Подобрать параметры классификатора\n",
    "+ 4. Попробовать другие классификаторы\n",
    "+ 5. Сбалансировать классы для обучения\n",
    "\n",
    "Я сделаю только п.3 и 5"
   ]
  },
  {
   "cell_type": "code",
   "execution_count": 56,
   "metadata": {},
   "outputs": [],
   "source": [
    "from sklearn.model_selection import GridSearchCV, ParameterGrid\n",
    "_acc = make_scorer(accuracy_score)\n",
    "_roc = make_scorer(roc_auc_score)\n",
    "param_grid = {\n",
    "    \"n_estimators\":[100,200,500,700],\n",
    "    \"criterion\": (\"friedman_mse\", \"mse\", \"mae\"),\n",
    "    \"max_depth\": [3,4,5]\n",
    "}\n"
   ]
  },
  {
   "cell_type": "code",
   "execution_count": 57,
   "metadata": {},
   "outputs": [
    {
     "name": "stderr",
     "output_type": "stream",
     "text": [
      "Tokenization: 100%|██████████| 10151/10151 [00:00<00:00, 12632.18it/s]\n",
      "Tokenization: 100%|██████████| 10151/10151 [00:00<00:00, 11053.54it/s]\n",
      "Inferring vectors: 100%|██████████| 10151/10151 [00:21<00:00, 478.82it/s]\n"
     ]
    }
   ],
   "source": [
    "# так как я не подбираю параметры для векторизатора, \n",
    "# я сразу обучу его на полной выборке, потому что именно в таком виде он пойдёт в прод\n",
    "_vectorizer = VectorizerTransformer()\n",
    "vecs = _vectorizer.fit_transform(X)\n"
   ]
  },
  {
   "cell_type": "code",
   "execution_count": 110,
   "metadata": {},
   "outputs": [
    {
     "name": "stderr",
     "output_type": "stream",
     "text": [
      "Tokenization: 100%|██████████| 10152/10152 [00:00<00:00, 18575.85it/s]\n",
      "Inferring vectors: 100%|██████████| 10152/10152 [00:21<00:00, 475.87it/s]\n"
     ]
    }
   ],
   "source": [
    "vecs = _vectorizer.transform(X)"
   ]
  },
  {
   "cell_type": "code",
   "execution_count": 58,
   "metadata": {},
   "outputs": [
    {
     "data": {
      "text/plain": [
       "789"
      ]
     },
     "execution_count": 58,
     "metadata": {},
     "output_type": "execute_result"
    }
   ],
   "source": [
    "# мало!\n",
    "sum(y == 0)"
   ]
  },
  {
   "cell_type": "code",
   "execution_count": 109,
   "metadata": {},
   "outputs": [],
   "source": [
    "from imblearn.under_sampling import NearMiss\n",
    "from imblearn.over_sampling import ADASYN\n",
    "vecs_us, y_us = NearMiss(version=3).fit_resample(vecs, y)\n",
    "# vecs_us, y_us = ADASYN(n_jobs=6).fit_resample(vecs, y)"
   ]
  },
  {
   "cell_type": "code",
   "execution_count": 110,
   "metadata": {},
   "outputs": [
    {
     "data": {
      "text/plain": [
       "1578"
      ]
     },
     "execution_count": 110,
     "metadata": {},
     "output_type": "execute_result"
    }
   ],
   "source": [
    "len(y_us)"
   ]
  },
  {
   "cell_type": "code",
   "execution_count": 95,
   "metadata": {},
   "outputs": [
    {
     "name": "stdout",
     "output_type": "stream",
     "text": [
      "CPU times: user 238 ms, sys: 60.3 ms, total: 298 ms\n",
      "Wall time: 3min 10s\n"
     ]
    }
   ],
   "source": [
    "%%time\n",
    "gscv_ = GridSearchCV(\n",
    "    estimator=GradientBoostingClassifier(n_iter_no_change=20),\n",
    "    param_grid=param_grid, \n",
    "    scoring={\"accuracy\":_acc,\"roc_auc\": _roc}, \n",
    "    n_jobs=4, refit=False, cv=4)\n",
    "res = gscv_.fit(vecs_us, y_us)"
   ]
  },
  {
   "cell_type": "code",
   "execution_count": 96,
   "metadata": {},
   "outputs": [
    {
     "data": {
      "text/html": [
       "<div>\n",
       "<style scoped>\n",
       "    .dataframe tbody tr th:only-of-type {\n",
       "        vertical-align: middle;\n",
       "    }\n",
       "\n",
       "    .dataframe tbody tr th {\n",
       "        vertical-align: top;\n",
       "    }\n",
       "\n",
       "    .dataframe thead th {\n",
       "        text-align: right;\n",
       "    }\n",
       "</style>\n",
       "<table border=\"1\" class=\"dataframe\">\n",
       "  <thead>\n",
       "    <tr style=\"text-align: right;\">\n",
       "      <th></th>\n",
       "      <th>mean_fit_time</th>\n",
       "      <th>std_fit_time</th>\n",
       "      <th>mean_score_time</th>\n",
       "      <th>std_score_time</th>\n",
       "      <th>param_criterion</th>\n",
       "      <th>param_max_depth</th>\n",
       "      <th>param_n_estimators</th>\n",
       "      <th>params</th>\n",
       "      <th>split0_test_accuracy</th>\n",
       "      <th>split1_test_accuracy</th>\n",
       "      <th>...</th>\n",
       "      <th>mean_test_accuracy</th>\n",
       "      <th>std_test_accuracy</th>\n",
       "      <th>rank_test_accuracy</th>\n",
       "      <th>split0_test_roc_auc</th>\n",
       "      <th>split1_test_roc_auc</th>\n",
       "      <th>split2_test_roc_auc</th>\n",
       "      <th>split3_test_roc_auc</th>\n",
       "      <th>mean_test_roc_auc</th>\n",
       "      <th>std_test_roc_auc</th>\n",
       "      <th>rank_test_roc_auc</th>\n",
       "    </tr>\n",
       "  </thead>\n",
       "  <tbody>\n",
       "    <tr>\n",
       "      <th>0</th>\n",
       "      <td>1.393110</td>\n",
       "      <td>0.006100</td>\n",
       "      <td>0.001924</td>\n",
       "      <td>0.000101</td>\n",
       "      <td>friedman_mse</td>\n",
       "      <td>3</td>\n",
       "      <td>100</td>\n",
       "      <td>{'criterion': 'friedman_mse', 'max_depth': 3, ...</td>\n",
       "      <td>0.865823</td>\n",
       "      <td>0.827848</td>\n",
       "      <td>...</td>\n",
       "      <td>0.838392</td>\n",
       "      <td>0.016261</td>\n",
       "      <td>8</td>\n",
       "      <td>0.865931</td>\n",
       "      <td>0.827616</td>\n",
       "      <td>0.835025</td>\n",
       "      <td>0.824873</td>\n",
       "      <td>0.838361</td>\n",
       "      <td>0.016345</td>\n",
       "      <td>8</td>\n",
       "    </tr>\n",
       "    <tr>\n",
       "      <th>1</th>\n",
       "      <td>2.070721</td>\n",
       "      <td>0.438126</td>\n",
       "      <td>0.001951</td>\n",
       "      <td>0.000215</td>\n",
       "      <td>friedman_mse</td>\n",
       "      <td>3</td>\n",
       "      <td>200</td>\n",
       "      <td>{'criterion': 'friedman_mse', 'max_depth': 3, ...</td>\n",
       "      <td>0.868354</td>\n",
       "      <td>0.835443</td>\n",
       "      <td>...</td>\n",
       "      <td>0.846000</td>\n",
       "      <td>0.014113</td>\n",
       "      <td>2</td>\n",
       "      <td>0.868482</td>\n",
       "      <td>0.835230</td>\n",
       "      <td>0.832487</td>\n",
       "      <td>0.847716</td>\n",
       "      <td>0.845979</td>\n",
       "      <td>0.014203</td>\n",
       "      <td>2</td>\n",
       "    </tr>\n",
       "    <tr>\n",
       "      <th>2</th>\n",
       "      <td>2.310287</td>\n",
       "      <td>0.514617</td>\n",
       "      <td>0.002065</td>\n",
       "      <td>0.000286</td>\n",
       "      <td>friedman_mse</td>\n",
       "      <td>3</td>\n",
       "      <td>500</td>\n",
       "      <td>{'criterion': 'friedman_mse', 'max_depth': 3, ...</td>\n",
       "      <td>0.860759</td>\n",
       "      <td>0.825316</td>\n",
       "      <td>...</td>\n",
       "      <td>0.844742</td>\n",
       "      <td>0.012930</td>\n",
       "      <td>4</td>\n",
       "      <td>0.860932</td>\n",
       "      <td>0.825091</td>\n",
       "      <td>0.850254</td>\n",
       "      <td>0.842640</td>\n",
       "      <td>0.844729</td>\n",
       "      <td>0.013068</td>\n",
       "      <td>4</td>\n",
       "    </tr>\n",
       "    <tr>\n",
       "      <th>3</th>\n",
       "      <td>1.887819</td>\n",
       "      <td>0.570442</td>\n",
       "      <td>0.001888</td>\n",
       "      <td>0.000281</td>\n",
       "      <td>friedman_mse</td>\n",
       "      <td>3</td>\n",
       "      <td>1000</td>\n",
       "      <td>{'criterion': 'friedman_mse', 'max_depth': 3, ...</td>\n",
       "      <td>0.870886</td>\n",
       "      <td>0.815190</td>\n",
       "      <td>...</td>\n",
       "      <td>0.839032</td>\n",
       "      <td>0.021339</td>\n",
       "      <td>7</td>\n",
       "      <td>0.871007</td>\n",
       "      <td>0.814952</td>\n",
       "      <td>0.845178</td>\n",
       "      <td>0.824873</td>\n",
       "      <td>0.839002</td>\n",
       "      <td>0.021451</td>\n",
       "      <td>7</td>\n",
       "    </tr>\n",
       "    <tr>\n",
       "      <th>4</th>\n",
       "      <td>1.982360</td>\n",
       "      <td>0.291326</td>\n",
       "      <td>0.002040</td>\n",
       "      <td>0.000090</td>\n",
       "      <td>friedman_mse</td>\n",
       "      <td>5</td>\n",
       "      <td>100</td>\n",
       "      <td>{'criterion': 'friedman_mse', 'max_depth': 5, ...</td>\n",
       "      <td>0.835443</td>\n",
       "      <td>0.830380</td>\n",
       "      <td>...</td>\n",
       "      <td>0.823182</td>\n",
       "      <td>0.009934</td>\n",
       "      <td>15</td>\n",
       "      <td>0.835512</td>\n",
       "      <td>0.830129</td>\n",
       "      <td>0.812183</td>\n",
       "      <td>0.814721</td>\n",
       "      <td>0.823136</td>\n",
       "      <td>0.009910</td>\n",
       "      <td>15</td>\n",
       "    </tr>\n",
       "    <tr>\n",
       "      <th>5</th>\n",
       "      <td>2.161622</td>\n",
       "      <td>0.124025</td>\n",
       "      <td>0.002098</td>\n",
       "      <td>0.000048</td>\n",
       "      <td>friedman_mse</td>\n",
       "      <td>5</td>\n",
       "      <td>200</td>\n",
       "      <td>{'criterion': 'friedman_mse', 'max_depth': 5, ...</td>\n",
       "      <td>0.865823</td>\n",
       "      <td>0.815190</td>\n",
       "      <td>...</td>\n",
       "      <td>0.828248</td>\n",
       "      <td>0.022587</td>\n",
       "      <td>10</td>\n",
       "      <td>0.865969</td>\n",
       "      <td>0.814990</td>\n",
       "      <td>0.824873</td>\n",
       "      <td>0.807107</td>\n",
       "      <td>0.828235</td>\n",
       "      <td>0.022677</td>\n",
       "      <td>10</td>\n",
       "    </tr>\n",
       "    <tr>\n",
       "      <th>6</th>\n",
       "      <td>2.213941</td>\n",
       "      <td>0.448726</td>\n",
       "      <td>0.002099</td>\n",
       "      <td>0.000206</td>\n",
       "      <td>friedman_mse</td>\n",
       "      <td>5</td>\n",
       "      <td>500</td>\n",
       "      <td>{'criterion': 'friedman_mse', 'max_depth': 5, ...</td>\n",
       "      <td>0.845570</td>\n",
       "      <td>0.817722</td>\n",
       "      <td>...</td>\n",
       "      <td>0.826356</td>\n",
       "      <td>0.013789</td>\n",
       "      <td>12</td>\n",
       "      <td>0.845703</td>\n",
       "      <td>0.817515</td>\n",
       "      <td>0.832487</td>\n",
       "      <td>0.809645</td>\n",
       "      <td>0.826338</td>\n",
       "      <td>0.013868</td>\n",
       "      <td>12</td>\n",
       "    </tr>\n",
       "    <tr>\n",
       "      <th>7</th>\n",
       "      <td>2.662204</td>\n",
       "      <td>0.359771</td>\n",
       "      <td>0.002303</td>\n",
       "      <td>0.000103</td>\n",
       "      <td>friedman_mse</td>\n",
       "      <td>5</td>\n",
       "      <td>1000</td>\n",
       "      <td>{'criterion': 'friedman_mse', 'max_depth': 5, ...</td>\n",
       "      <td>0.868354</td>\n",
       "      <td>0.817722</td>\n",
       "      <td>...</td>\n",
       "      <td>0.827610</td>\n",
       "      <td>0.025278</td>\n",
       "      <td>11</td>\n",
       "      <td>0.868482</td>\n",
       "      <td>0.817502</td>\n",
       "      <td>0.799492</td>\n",
       "      <td>0.824873</td>\n",
       "      <td>0.827587</td>\n",
       "      <td>0.025351</td>\n",
       "      <td>11</td>\n",
       "    </tr>\n",
       "    <tr>\n",
       "      <th>8</th>\n",
       "      <td>1.983237</td>\n",
       "      <td>0.388090</td>\n",
       "      <td>0.002109</td>\n",
       "      <td>0.000229</td>\n",
       "      <td>friedman_mse</td>\n",
       "      <td>7</td>\n",
       "      <td>100</td>\n",
       "      <td>{'criterion': 'friedman_mse', 'max_depth': 7, ...</td>\n",
       "      <td>0.837975</td>\n",
       "      <td>0.789873</td>\n",
       "      <td>...</td>\n",
       "      <td>0.811784</td>\n",
       "      <td>0.017512</td>\n",
       "      <td>21</td>\n",
       "      <td>0.838051</td>\n",
       "      <td>0.789673</td>\n",
       "      <td>0.814721</td>\n",
       "      <td>0.804569</td>\n",
       "      <td>0.811753</td>\n",
       "      <td>0.017603</td>\n",
       "      <td>21</td>\n",
       "    </tr>\n",
       "    <tr>\n",
       "      <th>9</th>\n",
       "      <td>1.560334</td>\n",
       "      <td>0.276050</td>\n",
       "      <td>0.001893</td>\n",
       "      <td>0.000155</td>\n",
       "      <td>friedman_mse</td>\n",
       "      <td>7</td>\n",
       "      <td>200</td>\n",
       "      <td>{'criterion': 'friedman_mse', 'max_depth': 7, ...</td>\n",
       "      <td>0.830380</td>\n",
       "      <td>0.777215</td>\n",
       "      <td>...</td>\n",
       "      <td>0.802279</td>\n",
       "      <td>0.019876</td>\n",
       "      <td>23</td>\n",
       "      <td>0.830500</td>\n",
       "      <td>0.776957</td>\n",
       "      <td>0.791878</td>\n",
       "      <td>0.809645</td>\n",
       "      <td>0.802245</td>\n",
       "      <td>0.020000</td>\n",
       "      <td>23</td>\n",
       "    </tr>\n",
       "    <tr>\n",
       "      <th>10</th>\n",
       "      <td>1.729440</td>\n",
       "      <td>0.285736</td>\n",
       "      <td>0.001974</td>\n",
       "      <td>0.000174</td>\n",
       "      <td>friedman_mse</td>\n",
       "      <td>7</td>\n",
       "      <td>500</td>\n",
       "      <td>{'criterion': 'friedman_mse', 'max_depth': 7, ...</td>\n",
       "      <td>0.840506</td>\n",
       "      <td>0.807595</td>\n",
       "      <td>...</td>\n",
       "      <td>0.817482</td>\n",
       "      <td>0.014095</td>\n",
       "      <td>19</td>\n",
       "      <td>0.840614</td>\n",
       "      <td>0.807363</td>\n",
       "      <td>0.804569</td>\n",
       "      <td>0.817259</td>\n",
       "      <td>0.817451</td>\n",
       "      <td>0.014180</td>\n",
       "      <td>19</td>\n",
       "    </tr>\n",
       "    <tr>\n",
       "      <th>11</th>\n",
       "      <td>1.604480</td>\n",
       "      <td>0.285307</td>\n",
       "      <td>0.001878</td>\n",
       "      <td>0.000142</td>\n",
       "      <td>friedman_mse</td>\n",
       "      <td>7</td>\n",
       "      <td>1000</td>\n",
       "      <td>{'criterion': 'friedman_mse', 'max_depth': 7, ...</td>\n",
       "      <td>0.822785</td>\n",
       "      <td>0.779747</td>\n",
       "      <td>...</td>\n",
       "      <td>0.799745</td>\n",
       "      <td>0.015527</td>\n",
       "      <td>24</td>\n",
       "      <td>0.822822</td>\n",
       "      <td>0.779508</td>\n",
       "      <td>0.794416</td>\n",
       "      <td>0.802030</td>\n",
       "      <td>0.799694</td>\n",
       "      <td>0.015618</td>\n",
       "      <td>24</td>\n",
       "    </tr>\n",
       "    <tr>\n",
       "      <th>12</th>\n",
       "      <td>1.364344</td>\n",
       "      <td>0.001632</td>\n",
       "      <td>0.001629</td>\n",
       "      <td>0.000029</td>\n",
       "      <td>mse</td>\n",
       "      <td>3</td>\n",
       "      <td>100</td>\n",
       "      <td>{'criterion': 'mse', 'max_depth': 3, 'n_estima...</td>\n",
       "      <td>0.868354</td>\n",
       "      <td>0.822785</td>\n",
       "      <td>...</td>\n",
       "      <td>0.846008</td>\n",
       "      <td>0.022192</td>\n",
       "      <td>1</td>\n",
       "      <td>0.868495</td>\n",
       "      <td>0.822553</td>\n",
       "      <td>0.868020</td>\n",
       "      <td>0.824873</td>\n",
       "      <td>0.845985</td>\n",
       "      <td>0.022288</td>\n",
       "      <td>1</td>\n",
       "    </tr>\n",
       "    <tr>\n",
       "      <th>13</th>\n",
       "      <td>2.093795</td>\n",
       "      <td>0.445181</td>\n",
       "      <td>0.001976</td>\n",
       "      <td>0.000234</td>\n",
       "      <td>mse</td>\n",
       "      <td>3</td>\n",
       "      <td>200</td>\n",
       "      <td>{'criterion': 'mse', 'max_depth': 3, 'n_estima...</td>\n",
       "      <td>0.873418</td>\n",
       "      <td>0.810127</td>\n",
       "      <td>...</td>\n",
       "      <td>0.841571</td>\n",
       "      <td>0.022396</td>\n",
       "      <td>5</td>\n",
       "      <td>0.873507</td>\n",
       "      <td>0.809914</td>\n",
       "      <td>0.842640</td>\n",
       "      <td>0.840102</td>\n",
       "      <td>0.841540</td>\n",
       "      <td>0.022502</td>\n",
       "      <td>5</td>\n",
       "    </tr>\n",
       "    <tr>\n",
       "      <th>14</th>\n",
       "      <td>2.201700</td>\n",
       "      <td>0.403115</td>\n",
       "      <td>0.001993</td>\n",
       "      <td>0.000169</td>\n",
       "      <td>mse</td>\n",
       "      <td>3</td>\n",
       "      <td>500</td>\n",
       "      <td>{'criterion': 'mse', 'max_depth': 3, 'n_estima...</td>\n",
       "      <td>0.860759</td>\n",
       "      <td>0.832911</td>\n",
       "      <td>...</td>\n",
       "      <td>0.841565</td>\n",
       "      <td>0.011488</td>\n",
       "      <td>6</td>\n",
       "      <td>0.860855</td>\n",
       "      <td>0.832692</td>\n",
       "      <td>0.840102</td>\n",
       "      <td>0.832487</td>\n",
       "      <td>0.841534</td>\n",
       "      <td>0.011569</td>\n",
       "      <td>6</td>\n",
       "    </tr>\n",
       "    <tr>\n",
       "      <th>15</th>\n",
       "      <td>2.595807</td>\n",
       "      <td>0.582384</td>\n",
       "      <td>0.002199</td>\n",
       "      <td>0.000306</td>\n",
       "      <td>mse</td>\n",
       "      <td>3</td>\n",
       "      <td>1000</td>\n",
       "      <td>{'criterion': 'mse', 'max_depth': 3, 'n_estima...</td>\n",
       "      <td>0.868354</td>\n",
       "      <td>0.815190</td>\n",
       "      <td>...</td>\n",
       "      <td>0.845378</td>\n",
       "      <td>0.019160</td>\n",
       "      <td>3</td>\n",
       "      <td>0.868482</td>\n",
       "      <td>0.814964</td>\n",
       "      <td>0.847716</td>\n",
       "      <td>0.850254</td>\n",
       "      <td>0.845354</td>\n",
       "      <td>0.019287</td>\n",
       "      <td>3</td>\n",
       "    </tr>\n",
       "    <tr>\n",
       "      <th>16</th>\n",
       "      <td>1.812781</td>\n",
       "      <td>0.235009</td>\n",
       "      <td>0.001893</td>\n",
       "      <td>0.000134</td>\n",
       "      <td>mse</td>\n",
       "      <td>5</td>\n",
       "      <td>100</td>\n",
       "      <td>{'criterion': 'mse', 'max_depth': 5, 'n_estima...</td>\n",
       "      <td>0.848101</td>\n",
       "      <td>0.794937</td>\n",
       "      <td>...</td>\n",
       "      <td>0.825734</td>\n",
       "      <td>0.021251</td>\n",
       "      <td>13</td>\n",
       "      <td>0.848203</td>\n",
       "      <td>0.794750</td>\n",
       "      <td>0.817259</td>\n",
       "      <td>0.842640</td>\n",
       "      <td>0.825713</td>\n",
       "      <td>0.021345</td>\n",
       "      <td>13</td>\n",
       "    </tr>\n",
       "    <tr>\n",
       "      <th>17</th>\n",
       "      <td>2.610625</td>\n",
       "      <td>0.982008</td>\n",
       "      <td>0.002265</td>\n",
       "      <td>0.000478</td>\n",
       "      <td>mse</td>\n",
       "      <td>5</td>\n",
       "      <td>200</td>\n",
       "      <td>{'criterion': 'mse', 'max_depth': 5, 'n_estima...</td>\n",
       "      <td>0.850633</td>\n",
       "      <td>0.812658</td>\n",
       "      <td>...</td>\n",
       "      <td>0.832066</td>\n",
       "      <td>0.016154</td>\n",
       "      <td>9</td>\n",
       "      <td>0.850728</td>\n",
       "      <td>0.812439</td>\n",
       "      <td>0.819797</td>\n",
       "      <td>0.845178</td>\n",
       "      <td>0.832035</td>\n",
       "      <td>0.016248</td>\n",
       "      <td>9</td>\n",
       "    </tr>\n",
       "    <tr>\n",
       "      <th>18</th>\n",
       "      <td>2.023893</td>\n",
       "      <td>0.253223</td>\n",
       "      <td>0.001995</td>\n",
       "      <td>0.000134</td>\n",
       "      <td>mse</td>\n",
       "      <td>5</td>\n",
       "      <td>500</td>\n",
       "      <td>{'criterion': 'mse', 'max_depth': 5, 'n_estima...</td>\n",
       "      <td>0.845570</td>\n",
       "      <td>0.802532</td>\n",
       "      <td>...</td>\n",
       "      <td>0.821289</td>\n",
       "      <td>0.015491</td>\n",
       "      <td>16</td>\n",
       "      <td>0.845729</td>\n",
       "      <td>0.802312</td>\n",
       "      <td>0.819797</td>\n",
       "      <td>0.817259</td>\n",
       "      <td>0.821274</td>\n",
       "      <td>0.015620</td>\n",
       "      <td>16</td>\n",
       "    </tr>\n",
       "    <tr>\n",
       "      <th>19</th>\n",
       "      <td>1.581510</td>\n",
       "      <td>0.246486</td>\n",
       "      <td>0.001788</td>\n",
       "      <td>0.000094</td>\n",
       "      <td>mse</td>\n",
       "      <td>5</td>\n",
       "      <td>1000</td>\n",
       "      <td>{'criterion': 'mse', 'max_depth': 5, 'n_estima...</td>\n",
       "      <td>0.840506</td>\n",
       "      <td>0.820253</td>\n",
       "      <td>...</td>\n",
       "      <td>0.825723</td>\n",
       "      <td>0.011755</td>\n",
       "      <td>14</td>\n",
       "      <td>0.840614</td>\n",
       "      <td>0.820028</td>\n",
       "      <td>0.809645</td>\n",
       "      <td>0.832487</td>\n",
       "      <td>0.825693</td>\n",
       "      <td>0.011816</td>\n",
       "      <td>14</td>\n",
       "    </tr>\n",
       "    <tr>\n",
       "      <th>20</th>\n",
       "      <td>1.824998</td>\n",
       "      <td>0.378720</td>\n",
       "      <td>0.002026</td>\n",
       "      <td>0.000166</td>\n",
       "      <td>mse</td>\n",
       "      <td>7</td>\n",
       "      <td>100</td>\n",
       "      <td>{'criterion': 'mse', 'max_depth': 7, 'n_estima...</td>\n",
       "      <td>0.835443</td>\n",
       "      <td>0.794937</td>\n",
       "      <td>...</td>\n",
       "      <td>0.806072</td>\n",
       "      <td>0.017072</td>\n",
       "      <td>22</td>\n",
       "      <td>0.835474</td>\n",
       "      <td>0.794750</td>\n",
       "      <td>0.799492</td>\n",
       "      <td>0.794416</td>\n",
       "      <td>0.806033</td>\n",
       "      <td>0.017116</td>\n",
       "      <td>22</td>\n",
       "    </tr>\n",
       "    <tr>\n",
       "      <th>21</th>\n",
       "      <td>1.799231</td>\n",
       "      <td>0.436353</td>\n",
       "      <td>0.001988</td>\n",
       "      <td>0.000213</td>\n",
       "      <td>mse</td>\n",
       "      <td>7</td>\n",
       "      <td>200</td>\n",
       "      <td>{'criterion': 'mse', 'max_depth': 7, 'n_estima...</td>\n",
       "      <td>0.843038</td>\n",
       "      <td>0.797468</td>\n",
       "      <td>...</td>\n",
       "      <td>0.817487</td>\n",
       "      <td>0.016347</td>\n",
       "      <td>18</td>\n",
       "      <td>0.843178</td>\n",
       "      <td>0.797249</td>\n",
       "      <td>0.814721</td>\n",
       "      <td>0.814721</td>\n",
       "      <td>0.817467</td>\n",
       "      <td>0.016469</td>\n",
       "      <td>18</td>\n",
       "    </tr>\n",
       "    <tr>\n",
       "      <th>22</th>\n",
       "      <td>1.662210</td>\n",
       "      <td>0.325191</td>\n",
       "      <td>0.001911</td>\n",
       "      <td>0.000133</td>\n",
       "      <td>mse</td>\n",
       "      <td>7</td>\n",
       "      <td>500</td>\n",
       "      <td>{'criterion': 'mse', 'max_depth': 7, 'n_estima...</td>\n",
       "      <td>0.853165</td>\n",
       "      <td>0.797468</td>\n",
       "      <td>...</td>\n",
       "      <td>0.820653</td>\n",
       "      <td>0.023358</td>\n",
       "      <td>17</td>\n",
       "      <td>0.853241</td>\n",
       "      <td>0.797275</td>\n",
       "      <td>0.799492</td>\n",
       "      <td>0.832487</td>\n",
       "      <td>0.820624</td>\n",
       "      <td>0.023432</td>\n",
       "      <td>17</td>\n",
       "    </tr>\n",
       "    <tr>\n",
       "      <th>23</th>\n",
       "      <td>2.035792</td>\n",
       "      <td>0.293472</td>\n",
       "      <td>0.002122</td>\n",
       "      <td>0.000171</td>\n",
       "      <td>mse</td>\n",
       "      <td>7</td>\n",
       "      <td>1000</td>\n",
       "      <td>{'criterion': 'mse', 'max_depth': 7, 'n_estima...</td>\n",
       "      <td>0.855696</td>\n",
       "      <td>0.789873</td>\n",
       "      <td>...</td>\n",
       "      <td>0.813677</td>\n",
       "      <td>0.025247</td>\n",
       "      <td>20</td>\n",
       "      <td>0.855779</td>\n",
       "      <td>0.789622</td>\n",
       "      <td>0.809645</td>\n",
       "      <td>0.799492</td>\n",
       "      <td>0.813634</td>\n",
       "      <td>0.025341</td>\n",
       "      <td>20</td>\n",
       "    </tr>\n",
       "    <tr>\n",
       "      <th>24</th>\n",
       "      <td>14.456983</td>\n",
       "      <td>4.080413</td>\n",
       "      <td>0.001310</td>\n",
       "      <td>0.000128</td>\n",
       "      <td>mae</td>\n",
       "      <td>3</td>\n",
       "      <td>100</td>\n",
       "      <td>{'criterion': 'mae', 'max_depth': 3, 'n_estima...</td>\n",
       "      <td>0.767089</td>\n",
       "      <td>0.686076</td>\n",
       "      <td>...</td>\n",
       "      <td>0.742733</td>\n",
       "      <td>0.036635</td>\n",
       "      <td>25</td>\n",
       "      <td>0.767215</td>\n",
       "      <td>0.685638</td>\n",
       "      <td>0.781726</td>\n",
       "      <td>0.736041</td>\n",
       "      <td>0.742655</td>\n",
       "      <td>0.036825</td>\n",
       "      <td>25</td>\n",
       "    </tr>\n",
       "    <tr>\n",
       "      <th>25</th>\n",
       "      <td>11.620850</td>\n",
       "      <td>7.129463</td>\n",
       "      <td>0.001196</td>\n",
       "      <td>0.000063</td>\n",
       "      <td>mae</td>\n",
       "      <td>3</td>\n",
       "      <td>200</td>\n",
       "      <td>{'criterion': 'mae', 'max_depth': 3, 'n_estima...</td>\n",
       "      <td>0.759494</td>\n",
       "      <td>0.691139</td>\n",
       "      <td>...</td>\n",
       "      <td>0.709739</td>\n",
       "      <td>0.035393</td>\n",
       "      <td>26</td>\n",
       "      <td>0.759601</td>\n",
       "      <td>0.690727</td>\n",
       "      <td>0.723350</td>\n",
       "      <td>0.664975</td>\n",
       "      <td>0.709663</td>\n",
       "      <td>0.035485</td>\n",
       "      <td>26</td>\n",
       "    </tr>\n",
       "    <tr>\n",
       "      <th>26</th>\n",
       "      <td>13.444631</td>\n",
       "      <td>5.951108</td>\n",
       "      <td>0.001220</td>\n",
       "      <td>0.000067</td>\n",
       "      <td>mae</td>\n",
       "      <td>3</td>\n",
       "      <td>500</td>\n",
       "      <td>{'criterion': 'mae', 'max_depth': 3, 'n_estima...</td>\n",
       "      <td>0.767089</td>\n",
       "      <td>0.708861</td>\n",
       "      <td>...</td>\n",
       "      <td>0.706551</td>\n",
       "      <td>0.040892</td>\n",
       "      <td>30</td>\n",
       "      <td>0.767113</td>\n",
       "      <td>0.708570</td>\n",
       "      <td>0.697970</td>\n",
       "      <td>0.652284</td>\n",
       "      <td>0.706484</td>\n",
       "      <td>0.040897</td>\n",
       "      <td>30</td>\n",
       "    </tr>\n",
       "    <tr>\n",
       "      <th>27</th>\n",
       "      <td>9.677224</td>\n",
       "      <td>6.681345</td>\n",
       "      <td>0.001211</td>\n",
       "      <td>0.000080</td>\n",
       "      <td>mae</td>\n",
       "      <td>3</td>\n",
       "      <td>1000</td>\n",
       "      <td>{'criterion': 'mae', 'max_depth': 3, 'n_estima...</td>\n",
       "      <td>0.749367</td>\n",
       "      <td>0.706329</td>\n",
       "      <td>...</td>\n",
       "      <td>0.707198</td>\n",
       "      <td>0.026040</td>\n",
       "      <td>28</td>\n",
       "      <td>0.749346</td>\n",
       "      <td>0.706109</td>\n",
       "      <td>0.680203</td>\n",
       "      <td>0.692893</td>\n",
       "      <td>0.707138</td>\n",
       "      <td>0.026034</td>\n",
       "      <td>28</td>\n",
       "    </tr>\n",
       "    <tr>\n",
       "      <th>28</th>\n",
       "      <td>8.389502</td>\n",
       "      <td>1.053278</td>\n",
       "      <td>0.001248</td>\n",
       "      <td>0.000042</td>\n",
       "      <td>mae</td>\n",
       "      <td>5</td>\n",
       "      <td>100</td>\n",
       "      <td>{'criterion': 'mae', 'max_depth': 5, 'n_estima...</td>\n",
       "      <td>0.721519</td>\n",
       "      <td>0.696203</td>\n",
       "      <td>...</td>\n",
       "      <td>0.695166</td>\n",
       "      <td>0.023629</td>\n",
       "      <td>31</td>\n",
       "      <td>0.721633</td>\n",
       "      <td>0.695893</td>\n",
       "      <td>0.705584</td>\n",
       "      <td>0.657360</td>\n",
       "      <td>0.695117</td>\n",
       "      <td>0.023658</td>\n",
       "      <td>31</td>\n",
       "    </tr>\n",
       "    <tr>\n",
       "      <th>29</th>\n",
       "      <td>12.605244</td>\n",
       "      <td>3.640732</td>\n",
       "      <td>0.001312</td>\n",
       "      <td>0.000051</td>\n",
       "      <td>mae</td>\n",
       "      <td>5</td>\n",
       "      <td>200</td>\n",
       "      <td>{'criterion': 'mae', 'max_depth': 5, 'n_estima...</td>\n",
       "      <td>0.703797</td>\n",
       "      <td>0.665823</td>\n",
       "      <td>...</td>\n",
       "      <td>0.690755</td>\n",
       "      <td>0.016758</td>\n",
       "      <td>33</td>\n",
       "      <td>0.703969</td>\n",
       "      <td>0.665500</td>\n",
       "      <td>0.708122</td>\n",
       "      <td>0.685279</td>\n",
       "      <td>0.690717</td>\n",
       "      <td>0.016911</td>\n",
       "      <td>33</td>\n",
       "    </tr>\n",
       "    <tr>\n",
       "      <th>30</th>\n",
       "      <td>16.221511</td>\n",
       "      <td>11.104111</td>\n",
       "      <td>0.001464</td>\n",
       "      <td>0.000291</td>\n",
       "      <td>mae</td>\n",
       "      <td>5</td>\n",
       "      <td>500</td>\n",
       "      <td>{'criterion': 'mae', 'max_depth': 5, 'n_estima...</td>\n",
       "      <td>0.756962</td>\n",
       "      <td>0.703797</td>\n",
       "      <td>...</td>\n",
       "      <td>0.706560</td>\n",
       "      <td>0.033568</td>\n",
       "      <td>29</td>\n",
       "      <td>0.757050</td>\n",
       "      <td>0.703584</td>\n",
       "      <td>0.703046</td>\n",
       "      <td>0.662437</td>\n",
       "      <td>0.706529</td>\n",
       "      <td>0.033606</td>\n",
       "      <td>29</td>\n",
       "    </tr>\n",
       "    <tr>\n",
       "      <th>31</th>\n",
       "      <td>14.968586</td>\n",
       "      <td>3.983674</td>\n",
       "      <td>0.001410</td>\n",
       "      <td>0.000092</td>\n",
       "      <td>mae</td>\n",
       "      <td>5</td>\n",
       "      <td>1000</td>\n",
       "      <td>{'criterion': 'mae', 'max_depth': 5, 'n_estima...</td>\n",
       "      <td>0.701266</td>\n",
       "      <td>0.711392</td>\n",
       "      <td>...</td>\n",
       "      <td>0.709129</td>\n",
       "      <td>0.009267</td>\n",
       "      <td>27</td>\n",
       "      <td>0.701328</td>\n",
       "      <td>0.711083</td>\n",
       "      <td>0.723350</td>\n",
       "      <td>0.700508</td>\n",
       "      <td>0.709067</td>\n",
       "      <td>0.009236</td>\n",
       "      <td>27</td>\n",
       "    </tr>\n",
       "    <tr>\n",
       "      <th>32</th>\n",
       "      <td>11.671680</td>\n",
       "      <td>2.049301</td>\n",
       "      <td>0.001422</td>\n",
       "      <td>0.000085</td>\n",
       "      <td>mae</td>\n",
       "      <td>7</td>\n",
       "      <td>100</td>\n",
       "      <td>{'criterion': 'mae', 'max_depth': 7, 'n_estima...</td>\n",
       "      <td>0.691139</td>\n",
       "      <td>0.668354</td>\n",
       "      <td>...</td>\n",
       "      <td>0.686955</td>\n",
       "      <td>0.014638</td>\n",
       "      <td>35</td>\n",
       "      <td>0.691240</td>\n",
       "      <td>0.668051</td>\n",
       "      <td>0.708122</td>\n",
       "      <td>0.680203</td>\n",
       "      <td>0.686904</td>\n",
       "      <td>0.014742</td>\n",
       "      <td>35</td>\n",
       "    </tr>\n",
       "    <tr>\n",
       "      <th>33</th>\n",
       "      <td>9.056928</td>\n",
       "      <td>1.101702</td>\n",
       "      <td>0.001354</td>\n",
       "      <td>0.000046</td>\n",
       "      <td>mae</td>\n",
       "      <td>7</td>\n",
       "      <td>200</td>\n",
       "      <td>{'criterion': 'mae', 'max_depth': 7, 'n_estima...</td>\n",
       "      <td>0.696203</td>\n",
       "      <td>0.703797</td>\n",
       "      <td>...</td>\n",
       "      <td>0.688198</td>\n",
       "      <td>0.012137</td>\n",
       "      <td>34</td>\n",
       "      <td>0.696329</td>\n",
       "      <td>0.703610</td>\n",
       "      <td>0.677665</td>\n",
       "      <td>0.675127</td>\n",
       "      <td>0.688183</td>\n",
       "      <td>0.012098</td>\n",
       "      <td>34</td>\n",
       "    </tr>\n",
       "    <tr>\n",
       "      <th>34</th>\n",
       "      <td>8.222531</td>\n",
       "      <td>0.456616</td>\n",
       "      <td>0.001343</td>\n",
       "      <td>0.000039</td>\n",
       "      <td>mae</td>\n",
       "      <td>7</td>\n",
       "      <td>500</td>\n",
       "      <td>{'criterion': 'mae', 'max_depth': 7, 'n_estima...</td>\n",
       "      <td>0.713924</td>\n",
       "      <td>0.691139</td>\n",
       "      <td>...</td>\n",
       "      <td>0.694540</td>\n",
       "      <td>0.011662</td>\n",
       "      <td>32</td>\n",
       "      <td>0.714095</td>\n",
       "      <td>0.690817</td>\n",
       "      <td>0.682741</td>\n",
       "      <td>0.690355</td>\n",
       "      <td>0.694502</td>\n",
       "      <td>0.011758</td>\n",
       "      <td>32</td>\n",
       "    </tr>\n",
       "    <tr>\n",
       "      <th>35</th>\n",
       "      <td>8.762794</td>\n",
       "      <td>0.299159</td>\n",
       "      <td>0.001302</td>\n",
       "      <td>0.000026</td>\n",
       "      <td>mae</td>\n",
       "      <td>7</td>\n",
       "      <td>1000</td>\n",
       "      <td>{'criterion': 'mae', 'max_depth': 7, 'n_estima...</td>\n",
       "      <td>0.731646</td>\n",
       "      <td>0.660759</td>\n",
       "      <td>...</td>\n",
       "      <td>0.672340</td>\n",
       "      <td>0.044400</td>\n",
       "      <td>36</td>\n",
       "      <td>0.731759</td>\n",
       "      <td>0.660501</td>\n",
       "      <td>0.687817</td>\n",
       "      <td>0.609137</td>\n",
       "      <td>0.672304</td>\n",
       "      <td>0.044455</td>\n",
       "      <td>36</td>\n",
       "    </tr>\n",
       "  </tbody>\n",
       "</table>\n",
       "<p>36 rows × 22 columns</p>\n",
       "</div>"
      ],
      "text/plain": [
       "    mean_fit_time  std_fit_time  mean_score_time  std_score_time  \\\n",
       "0        1.393110      0.006100         0.001924        0.000101   \n",
       "1        2.070721      0.438126         0.001951        0.000215   \n",
       "2        2.310287      0.514617         0.002065        0.000286   \n",
       "3        1.887819      0.570442         0.001888        0.000281   \n",
       "4        1.982360      0.291326         0.002040        0.000090   \n",
       "5        2.161622      0.124025         0.002098        0.000048   \n",
       "6        2.213941      0.448726         0.002099        0.000206   \n",
       "7        2.662204      0.359771         0.002303        0.000103   \n",
       "8        1.983237      0.388090         0.002109        0.000229   \n",
       "9        1.560334      0.276050         0.001893        0.000155   \n",
       "10       1.729440      0.285736         0.001974        0.000174   \n",
       "11       1.604480      0.285307         0.001878        0.000142   \n",
       "12       1.364344      0.001632         0.001629        0.000029   \n",
       "13       2.093795      0.445181         0.001976        0.000234   \n",
       "14       2.201700      0.403115         0.001993        0.000169   \n",
       "15       2.595807      0.582384         0.002199        0.000306   \n",
       "16       1.812781      0.235009         0.001893        0.000134   \n",
       "17       2.610625      0.982008         0.002265        0.000478   \n",
       "18       2.023893      0.253223         0.001995        0.000134   \n",
       "19       1.581510      0.246486         0.001788        0.000094   \n",
       "20       1.824998      0.378720         0.002026        0.000166   \n",
       "21       1.799231      0.436353         0.001988        0.000213   \n",
       "22       1.662210      0.325191         0.001911        0.000133   \n",
       "23       2.035792      0.293472         0.002122        0.000171   \n",
       "24      14.456983      4.080413         0.001310        0.000128   \n",
       "25      11.620850      7.129463         0.001196        0.000063   \n",
       "26      13.444631      5.951108         0.001220        0.000067   \n",
       "27       9.677224      6.681345         0.001211        0.000080   \n",
       "28       8.389502      1.053278         0.001248        0.000042   \n",
       "29      12.605244      3.640732         0.001312        0.000051   \n",
       "30      16.221511     11.104111         0.001464        0.000291   \n",
       "31      14.968586      3.983674         0.001410        0.000092   \n",
       "32      11.671680      2.049301         0.001422        0.000085   \n",
       "33       9.056928      1.101702         0.001354        0.000046   \n",
       "34       8.222531      0.456616         0.001343        0.000039   \n",
       "35       8.762794      0.299159         0.001302        0.000026   \n",
       "\n",
       "   param_criterion param_max_depth param_n_estimators  \\\n",
       "0     friedman_mse               3                100   \n",
       "1     friedman_mse               3                200   \n",
       "2     friedman_mse               3                500   \n",
       "3     friedman_mse               3               1000   \n",
       "4     friedman_mse               5                100   \n",
       "5     friedman_mse               5                200   \n",
       "6     friedman_mse               5                500   \n",
       "7     friedman_mse               5               1000   \n",
       "8     friedman_mse               7                100   \n",
       "9     friedman_mse               7                200   \n",
       "10    friedman_mse               7                500   \n",
       "11    friedman_mse               7               1000   \n",
       "12             mse               3                100   \n",
       "13             mse               3                200   \n",
       "14             mse               3                500   \n",
       "15             mse               3               1000   \n",
       "16             mse               5                100   \n",
       "17             mse               5                200   \n",
       "18             mse               5                500   \n",
       "19             mse               5               1000   \n",
       "20             mse               7                100   \n",
       "21             mse               7                200   \n",
       "22             mse               7                500   \n",
       "23             mse               7               1000   \n",
       "24             mae               3                100   \n",
       "25             mae               3                200   \n",
       "26             mae               3                500   \n",
       "27             mae               3               1000   \n",
       "28             mae               5                100   \n",
       "29             mae               5                200   \n",
       "30             mae               5                500   \n",
       "31             mae               5               1000   \n",
       "32             mae               7                100   \n",
       "33             mae               7                200   \n",
       "34             mae               7                500   \n",
       "35             mae               7               1000   \n",
       "\n",
       "                                               params  split0_test_accuracy  \\\n",
       "0   {'criterion': 'friedman_mse', 'max_depth': 3, ...              0.865823   \n",
       "1   {'criterion': 'friedman_mse', 'max_depth': 3, ...              0.868354   \n",
       "2   {'criterion': 'friedman_mse', 'max_depth': 3, ...              0.860759   \n",
       "3   {'criterion': 'friedman_mse', 'max_depth': 3, ...              0.870886   \n",
       "4   {'criterion': 'friedman_mse', 'max_depth': 5, ...              0.835443   \n",
       "5   {'criterion': 'friedman_mse', 'max_depth': 5, ...              0.865823   \n",
       "6   {'criterion': 'friedman_mse', 'max_depth': 5, ...              0.845570   \n",
       "7   {'criterion': 'friedman_mse', 'max_depth': 5, ...              0.868354   \n",
       "8   {'criterion': 'friedman_mse', 'max_depth': 7, ...              0.837975   \n",
       "9   {'criterion': 'friedman_mse', 'max_depth': 7, ...              0.830380   \n",
       "10  {'criterion': 'friedman_mse', 'max_depth': 7, ...              0.840506   \n",
       "11  {'criterion': 'friedman_mse', 'max_depth': 7, ...              0.822785   \n",
       "12  {'criterion': 'mse', 'max_depth': 3, 'n_estima...              0.868354   \n",
       "13  {'criterion': 'mse', 'max_depth': 3, 'n_estima...              0.873418   \n",
       "14  {'criterion': 'mse', 'max_depth': 3, 'n_estima...              0.860759   \n",
       "15  {'criterion': 'mse', 'max_depth': 3, 'n_estima...              0.868354   \n",
       "16  {'criterion': 'mse', 'max_depth': 5, 'n_estima...              0.848101   \n",
       "17  {'criterion': 'mse', 'max_depth': 5, 'n_estima...              0.850633   \n",
       "18  {'criterion': 'mse', 'max_depth': 5, 'n_estima...              0.845570   \n",
       "19  {'criterion': 'mse', 'max_depth': 5, 'n_estima...              0.840506   \n",
       "20  {'criterion': 'mse', 'max_depth': 7, 'n_estima...              0.835443   \n",
       "21  {'criterion': 'mse', 'max_depth': 7, 'n_estima...              0.843038   \n",
       "22  {'criterion': 'mse', 'max_depth': 7, 'n_estima...              0.853165   \n",
       "23  {'criterion': 'mse', 'max_depth': 7, 'n_estima...              0.855696   \n",
       "24  {'criterion': 'mae', 'max_depth': 3, 'n_estima...              0.767089   \n",
       "25  {'criterion': 'mae', 'max_depth': 3, 'n_estima...              0.759494   \n",
       "26  {'criterion': 'mae', 'max_depth': 3, 'n_estima...              0.767089   \n",
       "27  {'criterion': 'mae', 'max_depth': 3, 'n_estima...              0.749367   \n",
       "28  {'criterion': 'mae', 'max_depth': 5, 'n_estima...              0.721519   \n",
       "29  {'criterion': 'mae', 'max_depth': 5, 'n_estima...              0.703797   \n",
       "30  {'criterion': 'mae', 'max_depth': 5, 'n_estima...              0.756962   \n",
       "31  {'criterion': 'mae', 'max_depth': 5, 'n_estima...              0.701266   \n",
       "32  {'criterion': 'mae', 'max_depth': 7, 'n_estima...              0.691139   \n",
       "33  {'criterion': 'mae', 'max_depth': 7, 'n_estima...              0.696203   \n",
       "34  {'criterion': 'mae', 'max_depth': 7, 'n_estima...              0.713924   \n",
       "35  {'criterion': 'mae', 'max_depth': 7, 'n_estima...              0.731646   \n",
       "\n",
       "    split1_test_accuracy  ...  mean_test_accuracy  std_test_accuracy  \\\n",
       "0               0.827848  ...            0.838392           0.016261   \n",
       "1               0.835443  ...            0.846000           0.014113   \n",
       "2               0.825316  ...            0.844742           0.012930   \n",
       "3               0.815190  ...            0.839032           0.021339   \n",
       "4               0.830380  ...            0.823182           0.009934   \n",
       "5               0.815190  ...            0.828248           0.022587   \n",
       "6               0.817722  ...            0.826356           0.013789   \n",
       "7               0.817722  ...            0.827610           0.025278   \n",
       "8               0.789873  ...            0.811784           0.017512   \n",
       "9               0.777215  ...            0.802279           0.019876   \n",
       "10              0.807595  ...            0.817482           0.014095   \n",
       "11              0.779747  ...            0.799745           0.015527   \n",
       "12              0.822785  ...            0.846008           0.022192   \n",
       "13              0.810127  ...            0.841571           0.022396   \n",
       "14              0.832911  ...            0.841565           0.011488   \n",
       "15              0.815190  ...            0.845378           0.019160   \n",
       "16              0.794937  ...            0.825734           0.021251   \n",
       "17              0.812658  ...            0.832066           0.016154   \n",
       "18              0.802532  ...            0.821289           0.015491   \n",
       "19              0.820253  ...            0.825723           0.011755   \n",
       "20              0.794937  ...            0.806072           0.017072   \n",
       "21              0.797468  ...            0.817487           0.016347   \n",
       "22              0.797468  ...            0.820653           0.023358   \n",
       "23              0.789873  ...            0.813677           0.025247   \n",
       "24              0.686076  ...            0.742733           0.036635   \n",
       "25              0.691139  ...            0.709739           0.035393   \n",
       "26              0.708861  ...            0.706551           0.040892   \n",
       "27              0.706329  ...            0.707198           0.026040   \n",
       "28              0.696203  ...            0.695166           0.023629   \n",
       "29              0.665823  ...            0.690755           0.016758   \n",
       "30              0.703797  ...            0.706560           0.033568   \n",
       "31              0.711392  ...            0.709129           0.009267   \n",
       "32              0.668354  ...            0.686955           0.014638   \n",
       "33              0.703797  ...            0.688198           0.012137   \n",
       "34              0.691139  ...            0.694540           0.011662   \n",
       "35              0.660759  ...            0.672340           0.044400   \n",
       "\n",
       "    rank_test_accuracy  split0_test_roc_auc  split1_test_roc_auc  \\\n",
       "0                    8             0.865931             0.827616   \n",
       "1                    2             0.868482             0.835230   \n",
       "2                    4             0.860932             0.825091   \n",
       "3                    7             0.871007             0.814952   \n",
       "4                   15             0.835512             0.830129   \n",
       "5                   10             0.865969             0.814990   \n",
       "6                   12             0.845703             0.817515   \n",
       "7                   11             0.868482             0.817502   \n",
       "8                   21             0.838051             0.789673   \n",
       "9                   23             0.830500             0.776957   \n",
       "10                  19             0.840614             0.807363   \n",
       "11                  24             0.822822             0.779508   \n",
       "12                   1             0.868495             0.822553   \n",
       "13                   5             0.873507             0.809914   \n",
       "14                   6             0.860855             0.832692   \n",
       "15                   3             0.868482             0.814964   \n",
       "16                  13             0.848203             0.794750   \n",
       "17                   9             0.850728             0.812439   \n",
       "18                  16             0.845729             0.802312   \n",
       "19                  14             0.840614             0.820028   \n",
       "20                  22             0.835474             0.794750   \n",
       "21                  18             0.843178             0.797249   \n",
       "22                  17             0.853241             0.797275   \n",
       "23                  20             0.855779             0.789622   \n",
       "24                  25             0.767215             0.685638   \n",
       "25                  26             0.759601             0.690727   \n",
       "26                  30             0.767113             0.708570   \n",
       "27                  28             0.749346             0.706109   \n",
       "28                  31             0.721633             0.695893   \n",
       "29                  33             0.703969             0.665500   \n",
       "30                  29             0.757050             0.703584   \n",
       "31                  27             0.701328             0.711083   \n",
       "32                  35             0.691240             0.668051   \n",
       "33                  34             0.696329             0.703610   \n",
       "34                  32             0.714095             0.690817   \n",
       "35                  36             0.731759             0.660501   \n",
       "\n",
       "    split2_test_roc_auc  split3_test_roc_auc  mean_test_roc_auc  \\\n",
       "0              0.835025             0.824873           0.838361   \n",
       "1              0.832487             0.847716           0.845979   \n",
       "2              0.850254             0.842640           0.844729   \n",
       "3              0.845178             0.824873           0.839002   \n",
       "4              0.812183             0.814721           0.823136   \n",
       "5              0.824873             0.807107           0.828235   \n",
       "6              0.832487             0.809645           0.826338   \n",
       "7              0.799492             0.824873           0.827587   \n",
       "8              0.814721             0.804569           0.811753   \n",
       "9              0.791878             0.809645           0.802245   \n",
       "10             0.804569             0.817259           0.817451   \n",
       "11             0.794416             0.802030           0.799694   \n",
       "12             0.868020             0.824873           0.845985   \n",
       "13             0.842640             0.840102           0.841540   \n",
       "14             0.840102             0.832487           0.841534   \n",
       "15             0.847716             0.850254           0.845354   \n",
       "16             0.817259             0.842640           0.825713   \n",
       "17             0.819797             0.845178           0.832035   \n",
       "18             0.819797             0.817259           0.821274   \n",
       "19             0.809645             0.832487           0.825693   \n",
       "20             0.799492             0.794416           0.806033   \n",
       "21             0.814721             0.814721           0.817467   \n",
       "22             0.799492             0.832487           0.820624   \n",
       "23             0.809645             0.799492           0.813634   \n",
       "24             0.781726             0.736041           0.742655   \n",
       "25             0.723350             0.664975           0.709663   \n",
       "26             0.697970             0.652284           0.706484   \n",
       "27             0.680203             0.692893           0.707138   \n",
       "28             0.705584             0.657360           0.695117   \n",
       "29             0.708122             0.685279           0.690717   \n",
       "30             0.703046             0.662437           0.706529   \n",
       "31             0.723350             0.700508           0.709067   \n",
       "32             0.708122             0.680203           0.686904   \n",
       "33             0.677665             0.675127           0.688183   \n",
       "34             0.682741             0.690355           0.694502   \n",
       "35             0.687817             0.609137           0.672304   \n",
       "\n",
       "    std_test_roc_auc  rank_test_roc_auc  \n",
       "0           0.016345                  8  \n",
       "1           0.014203                  2  \n",
       "2           0.013068                  4  \n",
       "3           0.021451                  7  \n",
       "4           0.009910                 15  \n",
       "5           0.022677                 10  \n",
       "6           0.013868                 12  \n",
       "7           0.025351                 11  \n",
       "8           0.017603                 21  \n",
       "9           0.020000                 23  \n",
       "10          0.014180                 19  \n",
       "11          0.015618                 24  \n",
       "12          0.022288                  1  \n",
       "13          0.022502                  5  \n",
       "14          0.011569                  6  \n",
       "15          0.019287                  3  \n",
       "16          0.021345                 13  \n",
       "17          0.016248                  9  \n",
       "18          0.015620                 16  \n",
       "19          0.011816                 14  \n",
       "20          0.017116                 22  \n",
       "21          0.016469                 18  \n",
       "22          0.023432                 17  \n",
       "23          0.025341                 20  \n",
       "24          0.036825                 25  \n",
       "25          0.035485                 26  \n",
       "26          0.040897                 30  \n",
       "27          0.026034                 28  \n",
       "28          0.023658                 31  \n",
       "29          0.016911                 33  \n",
       "30          0.033606                 29  \n",
       "31          0.009236                 27  \n",
       "32          0.014742                 35  \n",
       "33          0.012098                 34  \n",
       "34          0.011758                 32  \n",
       "35          0.044455                 36  \n",
       "\n",
       "[36 rows x 22 columns]"
      ]
     },
     "execution_count": 96,
     "metadata": {},
     "output_type": "execute_result"
    }
   ],
   "source": [
    "pd.DataFrame(res.cv_results_)"
   ]
  },
  {
   "cell_type": "markdown",
   "metadata": {},
   "source": [
    "Лучший набор параметров:\n"
   ]
  },
  {
   "cell_type": "code",
   "execution_count": 39,
   "metadata": {},
   "outputs": [
    {
     "data": {
      "text/plain": [
       "{'criterion': 'friedman_mse', 'max_depth': 3, 'n_estimators': 200}"
      ]
     },
     "execution_count": 39,
     "metadata": {},
     "output_type": "execute_result"
    }
   ],
   "source": [
    "{'criterion': 'friedman_mse', 'max_depth': 3, 'n_estimators':200}\n",
    "# Дефолтные, кроме количества estimators."
   ]
  },
  {
   "cell_type": "code",
   "execution_count": 81,
   "metadata": {},
   "outputs": [
    {
     "name": "stderr",
     "output_type": "stream",
     "text": [
      "Tokenization: 100%|██████████| 1591/1591 [00:00<00:00, 19013.03it/s]\n",
      "Tokenization: 100%|██████████| 1591/1591 [00:00<00:00, 20054.99it/s]\n",
      "Inferring vectors: 100%|██████████| 1591/1591 [00:02<00:00, 594.93it/s]\n"
     ]
    },
    {
     "data": {
      "text/plain": [
       "Pipeline(steps=[('vectorizertransformer', VectorizerTransformer()),\n",
       "                ('gradientboostingclassifier',\n",
       "                 GradientBoostingClassifier(criterion='mse', n_estimators=500,\n",
       "                                            n_iter_no_change=20))])"
      ]
     },
     "execution_count": 81,
     "metadata": {},
     "output_type": "execute_result"
    }
   ],
   "source": [
    "model_final = make_pipeline(VectorizerTransformer(), GradientBoostingClassifier(criterion=\"friedman_mse\", n_estimators=100, n_iter_no_change=20))\n",
    "model_final.fit(X, y)"
   ]
  },
  {
   "cell_type": "code",
   "execution_count": 87,
   "metadata": {},
   "outputs": [
    {
     "name": "stdout",
     "output_type": "stream",
     "text": [
      "{'fit_time': array([0.02243423, 0.01695013, 0.01814723]), 'score_time': array([0.01682401, 0.0126977 , 0.01354456]), 'test_accuracy': array([0.9486692 , 0.88403042, 0.94676806]), 'test_roc_auc': array([0.99632783, 0.93317816, 0.95537018])}\n"
     ]
    }
   ],
   "source": [
    "from sklearn.svm import SVC\n",
    "model_final = make_pipeline(SVC())\n",
    "\n",
    "print(cross_validate(model_final, vecs_us, y_us, n_jobs=3,cv=3, scoring=(\"accuracy\", \"roc_auc\")))\n",
    "# model_final.fit(X, y)"
   ]
  },
  {
   "cell_type": "code",
   "execution_count": 111,
   "metadata": {},
   "outputs": [
    {
     "name": "stdout",
     "output_type": "stream",
     "text": [
      "{'fit_time': array([1.2148211 , 0.34953213, 0.43612862]), 'score_time': array([0.00292349, 0.00183368, 0.00198507]), 'test_accuracy': array([0.45627376, 0.60646388, 0.59125475]), 'test_roc_auc': array([0.50534199, 0.61079385, 0.64248435])}\n"
     ]
    }
   ],
   "source": [
    "# from sklearn.svm import Gradi\n",
    "model_final = make_pipeline(GradientBoostingClassifier(criterion=\"friedman_mse\", n_estimators=100, n_iter_no_change=20))\n",
    "\n",
    "print(cross_validate(model_final, vecs_us, y_us, n_jobs=6, scoring=(\"accuracy\", \"roc_auc\"), cv=3))"
   ]
  },
  {
   "cell_type": "code",
   "execution_count": 112,
   "metadata": {},
   "outputs": [
    {
     "data": {
      "text/plain": [
       "Pipeline(steps=[('gradientboostingclassifier',\n",
       "                 GradientBoostingClassifier(n_iter_no_change=20))])"
      ]
     },
     "execution_count": 112,
     "metadata": {},
     "output_type": "execute_result"
    }
   ],
   "source": [
    "model_final.fit(vecs_us, y_us)"
   ]
  },
  {
   "cell_type": "markdown",
   "metadata": {},
   "source": [
    "## 5. Инференс и подготовка сабмита"
   ]
  },
  {
   "cell_type": "code",
   "execution_count": 65,
   "metadata": {},
   "outputs": [],
   "source": [
    "import bs4\n",
    "test = []\n",
    "with open(\"test.csv\") as tfile:\n",
    "    sp = bs4.BeautifulSoup(tfile)\n",
    "    revs = sp.findAll(\"review\")\n",
    "    for r in revs:\n",
    "        test.append(r.text)\n",
    "\n",
    "# pd.read_csv(\"test.csv\")"
   ]
  },
  {
   "cell_type": "code",
   "execution_count": 9,
   "metadata": {},
   "outputs": [
    {
     "data": {
      "text/html": [
       "<div>\n",
       "<style scoped>\n",
       "    .dataframe tbody tr th:only-of-type {\n",
       "        vertical-align: middle;\n",
       "    }\n",
       "\n",
       "    .dataframe tbody tr th {\n",
       "        vertical-align: top;\n",
       "    }\n",
       "\n",
       "    .dataframe thead th {\n",
       "        text-align: right;\n",
       "    }\n",
       "</style>\n",
       "<table border=\"1\" class=\"dataframe\">\n",
       "  <thead>\n",
       "    <tr style=\"text-align: right;\">\n",
       "      <th></th>\n",
       "      <th>Id</th>\n",
       "      <th>text</th>\n",
       "      <th>y</th>\n",
       "    </tr>\n",
       "  </thead>\n",
       "  <tbody>\n",
       "    <tr>\n",
       "      <th>0</th>\n",
       "      <td>0</td>\n",
       "      <td>Ужасно слабый аккумулятор, это основной минус ...</td>\n",
       "      <td>0</td>\n",
       "    </tr>\n",
       "    <tr>\n",
       "      <th>1</th>\n",
       "      <td>1</td>\n",
       "      <td>ценанадежность-неубиваемостьдолго держит батар...</td>\n",
       "      <td>1</td>\n",
       "    </tr>\n",
       "    <tr>\n",
       "      <th>2</th>\n",
       "      <td>2</td>\n",
       "      <td>подробнее в комментариях\\nК сожалению, факт по...</td>\n",
       "      <td>0</td>\n",
       "    </tr>\n",
       "    <tr>\n",
       "      <th>3</th>\n",
       "      <td>3</td>\n",
       "      <td>я любительница громкой музыки. Тише телефона у...</td>\n",
       "      <td>0</td>\n",
       "    </tr>\n",
       "    <tr>\n",
       "      <th>4</th>\n",
       "      <td>4</td>\n",
       "      <td>Дата выпуска - 2011 г, емкость - 1430 mAh, тех...</td>\n",
       "      <td>1</td>\n",
       "    </tr>\n",
       "    <tr>\n",
       "      <th>...</th>\n",
       "      <td>...</td>\n",
       "      <td>...</td>\n",
       "      <td>...</td>\n",
       "    </tr>\n",
       "    <tr>\n",
       "      <th>95</th>\n",
       "      <td>95</td>\n",
       "      <td>Нет передней камеры, внутренняя память очень м...</td>\n",
       "      <td>0</td>\n",
       "    </tr>\n",
       "    <tr>\n",
       "      <th>96</th>\n",
       "      <td>96</td>\n",
       "      <td>Звук при прослушивание музыки хороший,не глючи...</td>\n",
       "      <td>1</td>\n",
       "    </tr>\n",
       "    <tr>\n",
       "      <th>97</th>\n",
       "      <td>97</td>\n",
       "      <td>Очень маленькая память забита вшитыми и соверш...</td>\n",
       "      <td>0</td>\n",
       "    </tr>\n",
       "    <tr>\n",
       "      <th>98</th>\n",
       "      <td>98</td>\n",
       "      <td>Удобный корпус,стандартное меню нокиа,камера д...</td>\n",
       "      <td>1</td>\n",
       "    </tr>\n",
       "    <tr>\n",
       "      <th>99</th>\n",
       "      <td>99</td>\n",
       "      <td>ПО, камера, отсутствие выбора приложение, нево...</td>\n",
       "      <td>0</td>\n",
       "    </tr>\n",
       "  </tbody>\n",
       "</table>\n",
       "<p>100 rows × 3 columns</p>\n",
       "</div>"
      ],
      "text/plain": [
       "    Id                                               text  y\n",
       "0    0  Ужасно слабый аккумулятор, это основной минус ...  0\n",
       "1    1  ценанадежность-неубиваемостьдолго держит батар...  1\n",
       "2    2  подробнее в комментариях\\nК сожалению, факт по...  0\n",
       "3    3  я любительница громкой музыки. Тише телефона у...  0\n",
       "4    4  Дата выпуска - 2011 г, емкость - 1430 mAh, тех...  1\n",
       "..  ..                                                ... ..\n",
       "95  95  Нет передней камеры, внутренняя память очень м...  0\n",
       "96  96  Звук при прослушивание музыки хороший,не глючи...  1\n",
       "97  97  Очень маленькая память забита вшитыми и соверш...  0\n",
       "98  98  Удобный корпус,стандартное меню нокиа,камера д...  1\n",
       "99  99  ПО, камера, отсутствие выбора приложение, нево...  0\n",
       "\n",
       "[100 rows x 3 columns]"
      ]
     },
     "execution_count": 9,
     "metadata": {},
     "output_type": "execute_result"
    }
   ],
   "source": [
    "test"
   ]
  },
  {
   "cell_type": "code",
   "execution_count": 104,
   "metadata": {},
   "outputs": [],
   "source": [
    "test = pd.read_csv(\"./test_.csv\")"
   ]
  },
  {
   "cell_type": "code",
   "execution_count": 105,
   "metadata": {},
   "outputs": [
    {
     "data": {
      "text/html": [
       "<div>\n",
       "<style scoped>\n",
       "    .dataframe tbody tr th:only-of-type {\n",
       "        vertical-align: middle;\n",
       "    }\n",
       "\n",
       "    .dataframe tbody tr th {\n",
       "        vertical-align: top;\n",
       "    }\n",
       "\n",
       "    .dataframe thead th {\n",
       "        text-align: right;\n",
       "    }\n",
       "</style>\n",
       "<table border=\"1\" class=\"dataframe\">\n",
       "  <thead>\n",
       "    <tr style=\"text-align: right;\">\n",
       "      <th></th>\n",
       "      <th>Id</th>\n",
       "      <th>text</th>\n",
       "      <th>y</th>\n",
       "    </tr>\n",
       "  </thead>\n",
       "  <tbody>\n",
       "    <tr>\n",
       "      <th>0</th>\n",
       "      <td>0</td>\n",
       "      <td>Ужасно слабый аккумулятор, это основной минус ...</td>\n",
       "      <td>0</td>\n",
       "    </tr>\n",
       "    <tr>\n",
       "      <th>1</th>\n",
       "      <td>1</td>\n",
       "      <td>ценанадежность-неубиваемостьдолго держит батар...</td>\n",
       "      <td>1</td>\n",
       "    </tr>\n",
       "    <tr>\n",
       "      <th>2</th>\n",
       "      <td>2</td>\n",
       "      <td>подробнее в комментариях\\nК сожалению, факт по...</td>\n",
       "      <td>0</td>\n",
       "    </tr>\n",
       "    <tr>\n",
       "      <th>3</th>\n",
       "      <td>3</td>\n",
       "      <td>я любительница громкой музыки. Тише телефона у...</td>\n",
       "      <td>0</td>\n",
       "    </tr>\n",
       "    <tr>\n",
       "      <th>4</th>\n",
       "      <td>4</td>\n",
       "      <td>Дата выпуска - 2011 г, емкость - 1430 mAh, тех...</td>\n",
       "      <td>1</td>\n",
       "    </tr>\n",
       "  </tbody>\n",
       "</table>\n",
       "</div>"
      ],
      "text/plain": [
       "   Id                                               text  y\n",
       "0   0  Ужасно слабый аккумулятор, это основной минус ...  0\n",
       "1   1  ценанадежность-неубиваемостьдолго держит батар...  1\n",
       "2   2  подробнее в комментариях\\nК сожалению, факт по...  0\n",
       "3   3  я любительница громкой музыки. Тише телефона у...  0\n",
       "4   4  Дата выпуска - 2011 г, емкость - 1430 mAh, тех...  1"
      ]
     },
     "execution_count": 105,
     "metadata": {},
     "output_type": "execute_result"
    }
   ],
   "source": [
    "test.head()"
   ]
  },
  {
   "cell_type": "code",
   "execution_count": 113,
   "metadata": {},
   "outputs": [
    {
     "name": "stderr",
     "output_type": "stream",
     "text": [
      "Tokenization: 100%|██████████| 100/100 [00:00<00:00, 4523.67it/s]\n",
      "Inferring vectors: 100%|██████████| 100/100 [00:00<00:00, 266.38it/s]\n"
     ]
    }
   ],
   "source": [
    "test[\"prediction\"] = model_final.predict(_vectorizer.transform(test.text))"
   ]
  },
  {
   "cell_type": "code",
   "execution_count": 100,
   "metadata": {},
   "outputs": [
    {
     "data": {
      "text/plain": [
       "neg    100\n",
       "Name: y, dtype: int64"
      ]
     },
     "execution_count": 100,
     "metadata": {},
     "output_type": "execute_result"
    }
   ],
   "source": []
  },
  {
   "cell_type": "code",
   "execution_count": 115,
   "metadata": {},
   "outputs": [
    {
     "data": {
      "text/plain": [
       "0.49"
      ]
     },
     "execution_count": 115,
     "metadata": {},
     "output_type": "execute_result"
    }
   ],
   "source": [
    "accuracy_score(test[\"y\"], test[\"prediction\"])"
   ]
  },
  {
   "cell_type": "code",
   "execution_count": null,
   "metadata": {},
   "outputs": [],
   "source": [
    "test[\"y\"] = test.y.map({1: \"pos\", 0: \"neg\"})\n",
    "submission[\"y\"].value_counts()"
   ]
  },
  {
   "cell_type": "code",
   "execution_count": 106,
   "metadata": {},
   "outputs": [],
   "source": [
    "submission.to_csv(\"./submission.csv\", columns=[\"y\"], index_label=\"Id\")"
   ]
  },
  {
   "cell_type": "code",
   "execution_count": 7,
   "metadata": {},
   "outputs": [],
   "source": [
    "submission.to_csv(\"./test_.csv\", index_label=\"Id\", columns=[\"text\"],quoting=csv.QUOTE_NONNUMERIC )"
   ]
  },
  {
   "cell_type": "code",
   "execution_count": null,
   "metadata": {},
   "outputs": [],
   "source": [
    "from csv import "
   ]
  },
  {
   "cell_type": "code",
   "execution_count": 4,
   "metadata": {},
   "outputs": [],
   "source": [
    "import csv"
   ]
  },
  {
   "cell_type": "markdown",
   "metadata": {},
   "source": [
    "## 6. Упаковка модели"
   ]
  },
  {
   "cell_type": "code",
   "execution_count": null,
   "metadata": {},
   "outputs": [],
   "source": [
    "import pickle as pkl"
   ]
  },
  {
   "cell_type": "code",
   "execution_count": 120,
   "metadata": {},
   "outputs": [
    {
     "data": {
      "text/plain": [
       "<module 'csv' from '/home/master/.local/share/miniconda3/lib/python3.8/csv.py'>"
      ]
     },
     "execution_count": 120,
     "metadata": {},
     "output_type": "execute_result"
    }
   ],
   "source": [
    "csv."
   ]
  },
  {
   "cell_type": "code",
   "execution_count": null,
   "metadata": {},
   "outputs": [],
   "source": []
  },
  {
   "cell_type": "code",
   "execution_count": null,
   "metadata": {},
   "outputs": [],
   "source": []
  },
  {
   "cell_type": "code",
   "execution_count": null,
   "metadata": {},
   "outputs": [],
   "source": []
  }
 ],
 "metadata": {
  "kernelspec": {
   "display_name": "Python 3",
   "language": "python",
   "name": "python3"
  },
  "language_info": {
   "codemirror_mode": {
    "name": "ipython",
    "version": 3
   },
   "file_extension": ".py",
   "mimetype": "text/x-python",
   "name": "python",
   "nbconvert_exporter": "python",
   "pygments_lexer": "ipython3",
   "version": "3.8.3"
  }
 },
 "nbformat": 4,
 "nbformat_minor": 4
}
